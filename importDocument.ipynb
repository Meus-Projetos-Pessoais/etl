{
 "cells": [
  {
   "cell_type": "code",
   "execution_count": 1,
   "metadata": {},
   "outputs": [],
   "source": [
    "import pandas as pd\n",
    "import pyodbc"
   ]
  },
  {
   "cell_type": "code",
   "execution_count": 2,
   "metadata": {},
   "outputs": [],
   "source": [
    "df =  pd.read_excel('baseDeDados.xlsx')"
   ]
  },
  {
   "cell_type": "code",
   "execution_count": 3,
   "metadata": {},
   "outputs": [
    {
     "data": {
      "text/html": [
       "<div>\n",
       "<style scoped>\n",
       "    .dataframe tbody tr th:only-of-type {\n",
       "        vertical-align: middle;\n",
       "    }\n",
       "\n",
       "    .dataframe tbody tr th {\n",
       "        vertical-align: top;\n",
       "    }\n",
       "\n",
       "    .dataframe thead th {\n",
       "        text-align: right;\n",
       "    }\n",
       "</style>\n",
       "<table border=\"1\" class=\"dataframe\">\n",
       "  <thead>\n",
       "    <tr style=\"text-align: right;\">\n",
       "      <th></th>\n",
       "      <th>Name</th>\n",
       "      <th>email</th>\n",
       "      <th>address</th>\n",
       "      <th>Phone Number</th>\n",
       "      <th>Comments</th>\n",
       "    </tr>\n",
       "  </thead>\n",
       "  <tbody>\n",
       "    <tr>\n",
       "      <th>0</th>\n",
       "      <td>Andre Emidio</td>\n",
       "      <td>andre.emidio@outlook.com</td>\n",
       "      <td>Teste</td>\n",
       "      <td>(12)98862-4725</td>\n",
       "      <td>Entre em contato !</td>\n",
       "    </tr>\n",
       "    <tr>\n",
       "      <th>1</th>\n",
       "      <td>João Souza</td>\n",
       "      <td>joao.souza@gmail.com</td>\n",
       "      <td>Rua Quatro 352</td>\n",
       "      <td>12988625847</td>\n",
       "      <td>It is a long established fact that a reader wi...</td>\n",
       "    </tr>\n",
       "    <tr>\n",
       "      <th>2</th>\n",
       "      <td>José Maria</td>\n",
       "      <td>jose.maria@gmail.com</td>\n",
       "      <td>Rua Doutor Arnaldo Machado 1801</td>\n",
       "      <td>12988625847</td>\n",
       "      <td>It is a long established fact that a reader wi...</td>\n",
       "    </tr>\n",
       "    <tr>\n",
       "      <th>3</th>\n",
       "      <td>Analice vieira</td>\n",
       "      <td>analice.vieira@gmail.com</td>\n",
       "      <td>Rua Cristo Rei 142</td>\n",
       "      <td>12988625847</td>\n",
       "      <td>It is a long established fact that a reader wi...</td>\n",
       "    </tr>\n",
       "    <tr>\n",
       "      <th>4</th>\n",
       "      <td>Janaina vicente</td>\n",
       "      <td>janaina.vicente@gmail.com</td>\n",
       "      <td>Passagem Bom Sossego III 1911</td>\n",
       "      <td>12988625847</td>\n",
       "      <td>It is a long established fact that a reader wi...</td>\n",
       "    </tr>\n",
       "  </tbody>\n",
       "</table>\n",
       "</div>"
      ],
      "text/plain": [
       "              Name                      email  \\\n",
       "0     Andre Emidio   andre.emidio@outlook.com   \n",
       "1       João Souza       joao.souza@gmail.com   \n",
       "2       José Maria       jose.maria@gmail.com   \n",
       "3   Analice vieira   analice.vieira@gmail.com   \n",
       "4  Janaina vicente  janaina.vicente@gmail.com   \n",
       "\n",
       "                           address    Phone Number  \\\n",
       "0                            Teste  (12)98862-4725   \n",
       "1                   Rua Quatro 352     12988625847   \n",
       "2  Rua Doutor Arnaldo Machado 1801     12988625847   \n",
       "3               Rua Cristo Rei 142     12988625847   \n",
       "4    Passagem Bom Sossego III 1911     12988625847   \n",
       "\n",
       "                                            Comments  \n",
       "0                                 Entre em contato !  \n",
       "1  It is a long established fact that a reader wi...  \n",
       "2  It is a long established fact that a reader wi...  \n",
       "3  It is a long established fact that a reader wi...  \n",
       "4  It is a long established fact that a reader wi...  "
      ]
     },
     "execution_count": 3,
     "metadata": {},
     "output_type": "execute_result"
    }
   ],
   "source": [
    "df.head()"
   ]
  },
  {
   "cell_type": "code",
   "execution_count": 4,
   "metadata": {},
   "outputs": [
    {
     "name": "stdout",
     "output_type": "stream",
     "text": [
      "4.0.26\n"
     ]
    }
   ],
   "source": [
    "print(pyodbc.version)"
   ]
  },
  {
   "cell_type": "code",
   "execution_count": 5,
   "metadata": {},
   "outputs": [],
   "source": [
    "#https://stackoverflow.com/questions/36180703/pyodbc-error-python-to-ms-access?noredirect=1&lq=1\n",
    "conn_str = r'DRIVER={Microsoft Access Driver (*.mdb, *.accdb)};DBQ=C:\\\\Users\\\\Andre\\\\Documents\\\\bancoteste.accdb;'\n",
    "cnxn =  pyodbc.connect(conn_str)"
   ]
  },
  {
   "cell_type": "code",
   "execution_count": 6,
   "metadata": {},
   "outputs": [],
   "source": [
    "crsr = cnxn.cursor()"
   ]
  },
  {
   "cell_type": "code",
   "execution_count": 7,
   "metadata": {},
   "outputs": [],
   "source": [
    "table_name =  \"cadastroUsuario\""
   ]
  },
  {
   "cell_type": "code",
   "execution_count": 8,
   "metadata": {},
   "outputs": [],
   "source": [
    "df1 = pd.DataFrame([['Andre Emidio','andre.emidio@outlook.com' ,'Teste' ,'(12)98862-4725' ,'Entre em contato !'] ], columns=['Name' ,'email' ,'address' ,'Phone' 'Number' ,'Comments'])\n",
    "\n",
    "#['Andre Emidio','andre.emidio@outlook.com' ,'Teste' ,'(12)98862-4725' ,'Entre em contato !']\n",
    "\n",
    "#['Name' ,'email' ,'address' ,'Phone' 'Number' ,'Comments']"
   ]
  },
  {
   "cell_type": "code",
   "execution_count": 18,
   "metadata": {},
   "outputs": [
    {
     "data": {
      "text/plain": [
       "pandas.core.frame.DataFrame"
      ]
     },
     "execution_count": 18,
     "metadata": {},
     "output_type": "execute_result"
    }
   ],
   "source": [
    "type(df1)"
   ]
  },
  {
   "cell_type": "code",
   "execution_count": 10,
   "metadata": {},
   "outputs": [],
   "source": [
    "conn = pyodbc.connect(r'DRIVER={Microsoft Access Driver (*.mdb, *.accdb)};DBQ=C:\\\\Users\\\\Andre\\\\Documents\\\\bancoteste.accdb;')\n",
    "cursor = conn.cursor()\n",
    "#cursor.execute('select * from cadastroUsuario')"
   ]
  },
  {
   "cell_type": "code",
   "execution_count": 11,
   "metadata": {},
   "outputs": [
    {
     "data": {
      "text/plain": [
       "<pyodbc.Cursor at 0x159c1b08558>"
      ]
     },
     "execution_count": 11,
     "metadata": {},
     "output_type": "execute_result"
    }
   ],
   "source": [
    "cursor.execute(\"INSERT INTO cadastroUsuario (Nome,email,address,phonenumber,coments) VALUES ('Andre Emidio','andre.emidio@outlook.com' ,'Teste' ,'(12)98862-4725' ,'Entre em contato !')\")"
   ]
  },
  {
   "cell_type": "code",
   "execution_count": 12,
   "metadata": {},
   "outputs": [],
   "source": [
    "conn.commit()"
   ]
  },
  {
   "cell_type": "code",
   "execution_count": 13,
   "metadata": {},
   "outputs": [
    {
     "name": "stdout",
     "output_type": "stream",
     "text": [
      "(15, 'Andre Emidio', 'andre.emidio@outlook.com', 'Teste', '(12)98862-4725', 'Entre em contato !')\n",
      "(16, 'Andre Emidio', 'andre.emidio@outlook.com', 'Teste', '(12)98862-4725', 'Entre em contato !')\n",
      "(17, 'Andre Emidio', 'andre.emidio@outlook.com', 'Teste', '(12)98862-4725', 'Entre em contato !')\n",
      "(18, 'Andre Emidio', 'andre.emidio@outlook.com', 'Teste', '(12)98862-4725', 'Entre em contato !')\n"
     ]
    }
   ],
   "source": [
    "cursor.execute('select * from cadastroUsuario')\n",
    "\n",
    "for row in cursor.fetchall():\n",
    "    print (row)"
   ]
  },
  {
   "cell_type": "code",
   "execution_count": 19,
   "metadata": {},
   "outputs": [
    {
     "data": {
      "text/html": [
       "<div>\n",
       "<style scoped>\n",
       "    .dataframe tbody tr th:only-of-type {\n",
       "        vertical-align: middle;\n",
       "    }\n",
       "\n",
       "    .dataframe tbody tr th {\n",
       "        vertical-align: top;\n",
       "    }\n",
       "\n",
       "    .dataframe thead th {\n",
       "        text-align: right;\n",
       "    }\n",
       "</style>\n",
       "<table border=\"1\" class=\"dataframe\">\n",
       "  <thead>\n",
       "    <tr style=\"text-align: right;\">\n",
       "      <th></th>\n",
       "      <th>Name</th>\n",
       "      <th>email</th>\n",
       "      <th>address</th>\n",
       "      <th>PhoneNumber</th>\n",
       "      <th>Comments</th>\n",
       "    </tr>\n",
       "  </thead>\n",
       "  <tbody>\n",
       "    <tr>\n",
       "      <th>0</th>\n",
       "      <td>Andre Emidio</td>\n",
       "      <td>andre.emidio@outlook.com</td>\n",
       "      <td>Teste</td>\n",
       "      <td>(12)98862-4725</td>\n",
       "      <td>Entre em contato !</td>\n",
       "    </tr>\n",
       "  </tbody>\n",
       "</table>\n",
       "</div>"
      ],
      "text/plain": [
       "           Name                     email address     PhoneNumber  \\\n",
       "0  Andre Emidio  andre.emidio@outlook.com   Teste  (12)98862-4725   \n",
       "\n",
       "             Comments  \n",
       "0  Entre em contato !  "
      ]
     },
     "execution_count": 19,
     "metadata": {},
     "output_type": "execute_result"
    }
   ],
   "source": [
    "#cursor.close()\n",
    "#conn.close()\n",
    "df1"
   ]
  },
  {
   "cell_type": "code",
   "execution_count": 34,
   "metadata": {},
   "outputs": [
    {
     "name": "stdout",
     "output_type": "stream",
     "text": [
      "Name                       Andre Emidio\n",
      "email          andre.emidio@outlook.com\n",
      "address                           Teste\n",
      "PhoneNumber              (12)98862-4725\n",
      "Comments             Entre em contato !\n",
      "Name: 0, dtype: object\n"
     ]
    },
    {
     "ename": "Error",
     "evalue": "('21S01', '[21S01] [Microsoft][ODBC Microsoft Access Driver] Number of query values and destination fields are not the same. (-3520) (SQLExecDirectW)')",
     "output_type": "error",
     "traceback": [
      "\u001b[1;31m---------------------------------------------------------------------------\u001b[0m",
      "\u001b[1;31mError\u001b[0m                                     Traceback (most recent call last)",
      "\u001b[1;32m<ipython-input-34-d76b72604f52>\u001b[0m in \u001b[0;36m<module>\u001b[1;34m\u001b[0m\n\u001b[0;32m      3\u001b[0m \u001b[1;33m\u001b[0m\u001b[0m\n\u001b[0;32m      4\u001b[0m     \u001b[1;32mwith\u001b[0m \u001b[0mconn\u001b[0m\u001b[1;33m.\u001b[0m\u001b[0mcursor\u001b[0m\u001b[1;33m(\u001b[0m\u001b[1;33m)\u001b[0m \u001b[1;32mas\u001b[0m \u001b[0mcrsr\u001b[0m\u001b[1;33m:\u001b[0m\u001b[1;33m\u001b[0m\u001b[1;33m\u001b[0m\u001b[0m\n\u001b[1;32m----> 5\u001b[1;33m        crsr.execute(\"INSERT INTO Output(Nome,email,address,phonenumber,coments) VALUES(row)\", \n\u001b[0m\u001b[0;32m      6\u001b[0m         \u001b[1;31m#row[\"Name\"], row[\"email\"], row['address'], row['PhoneNumber'],row['Comments']\u001b[0m\u001b[1;33m\u001b[0m\u001b[1;33m\u001b[0m\u001b[1;33m\u001b[0m\u001b[0m\n\u001b[0;32m      7\u001b[0m         )\n",
      "\u001b[1;31mError\u001b[0m: ('21S01', '[21S01] [Microsoft][ODBC Microsoft Access Driver] Number of query values and destination fields are not the same. (-3520) (SQLExecDirectW)')"
     ]
    }
   ],
   "source": [
    "for index, row in df1.iterrows():\n",
    "    print(row)\n",
    "    \n",
    "    with conn.cursor() as crsr:\n",
    "       crsr.execute(\"INSERT INTO Output(Nome,email,address,phonenumber,coments) VALUES(row[])\", \n",
    "        #row[\"Name\"], row[\"email\"], row['address'], row['PhoneNumber'],row['Comments']\n",
    "        )\n"
   ]
  },
  {
   "cell_type": "code",
   "execution_count": null,
   "metadata": {},
   "outputs": [],
   "source": [
    "cnxn.commit()"
   ]
  }
 ],
 "metadata": {
  "kernelspec": {
   "display_name": "Python 3",
   "language": "python",
   "name": "python3"
  },
  "language_info": {
   "codemirror_mode": {
    "name": "ipython",
    "version": 3
   },
   "file_extension": ".py",
   "mimetype": "text/x-python",
   "name": "python",
   "nbconvert_exporter": "python",
   "pygments_lexer": "ipython3",
   "version": "3.7.3"
  }
 },
 "nbformat": 4,
 "nbformat_minor": 2
}
